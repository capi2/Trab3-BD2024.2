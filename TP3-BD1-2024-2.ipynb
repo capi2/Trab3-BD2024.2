{
 "cells": [
  {
   "cell_type": "markdown",
   "metadata": {},
   "source": [
    "# Trabalho Prático 3 - Banco de Dados I 07/11/2024\n",
    "## Equipe: André Hirosaki, André Valente e Hugo Carvalho"
   ]
  },
  {
   "cell_type": "markdown",
   "metadata": {},
   "source": [
    "## Parte I"
   ]
  },
  {
   "cell_type": "markdown",
   "metadata": {},
   "source": [
    "### Tarefa 1 – Instalação do PostgreSQL"
   ]
  },
  {
   "cell_type": "code",
   "execution_count": 50,
   "metadata": {},
   "outputs": [
    {
     "name": "stdout",
     "output_type": "stream",
     "text": [
      "[sudo] password for andre: "
     ]
    },
    {
     "name": "stdout",
     "output_type": "stream",
     "text": [
      "Reading package lists... Done\n",
      "Building dependency tree... Done\n",
      "Reading state information... Done\n",
      "postgresql is already the newest version (14+238).\n",
      "The following packages were automatically installed and are no longer required:\n",
      "  arduino-builder arduino-core-avr arduino-ctags avr-libc avrdude binutils-avr\n",
      "  extra-xdg-menus gcc-avr java-wrappers libapache-pom-java libastylej-jni\n",
      "  libbatik-java libbcpg-java libbcprov-java libcommons-codec-java\n",
      "  libcommons-compress-java libcommons-exec-java libcommons-io-java\n",
      "  libcommons-lang3-java libcommons-logging-java libcommons-net-java\n",
      "  libcommons-parent-java libftdi1 libgoogle-gson-java libhidapi-libusb0\n",
      "  libhttpclient-java libhttpcore-java libjackson2-annotations-java\n",
      "  libjackson2-core-java libjackson2-databind-java libjaxp1.3-java\n",
      "  libjmdns-java libjna-java libjna-jni libjna-platform-java libjsch-java\n",
      "  libjssc-java libjzlib-java liblightcouch-java liblistserialsj-dev\n",
      "  liblistserialsj1 liblog4j2-java libmongodb-java librsyntaxtextarea-java\n",
      "  librxtx-java libsemver-java libserialport0 libslf4j-java libusb-0.1-4\n",
      "  libxalan2-java libxerces2-java libxml-commons-external-java\n",
      "  libxml-commons-resolver1.1-java libxmlgraphics-commons-java\n",
      "Use 'sudo apt autoremove' to remove them.\n",
      "0 upgraded, 0 newly installed, 0 to remove and 154 not upgraded.\n",
      "psql (PostgreSQL) 14.13 (Ubuntu 14.13-0ubuntu0.22.04.1)\n"
     ]
    }
   ],
   "source": [
    "!echo \"andre1234\" | sudo -S apt install postgresql\n",
    "!psql --version"
   ]
  },
  {
   "cell_type": "markdown",
   "metadata": {},
   "source": [
    "### Tarefa 2 – Geração de um BD de testes"
   ]
  },
  {
   "cell_type": "code",
   "execution_count": 51,
   "metadata": {},
   "outputs": [
    {
     "name": "stdout",
     "output_type": "stream",
     "text": [
      "dropped existing tables\n",
      "cleaned database tpch\n",
      "done creating schemas\n",
      "done loading data to tables\n",
      "done creating indexes and foreign keys\n",
      "============================================================\n",
      "=========================== Load ===========================\n",
      "============================================================\n",
      "create_schema: : 0:00:00.066235\n",
      "load_data: 0:00:18.742709\n",
      "index_tables: 0:00:18.996413\n",
      "============================================================\n",
      "======================= End Results ========================\n",
      "============================================================\n"
     ]
    }
   ],
   "source": [
    "!python3 tpch_pgsql.py load --password 123"
   ]
  },
  {
   "cell_type": "markdown",
   "metadata": {},
   "source": [
    "### Tarefa 3 – Execução de Consultas"
   ]
  },
  {
   "cell_type": "code",
   "execution_count": 52,
   "metadata": {},
   "outputs": [
    {
     "name": "stdout",
     "output_type": "stream",
     "text": [
      "Power tests started ...\n",
      "Power tests finished.\n",
      "Throughput tests started ...\n",
      "Throughput tests in stream #1 started ...\n",
      "Throughput tests in stream #2 started ...\n",
      "Throughput tests finished.\n",
      "done performance tests\n",
      "Power@Size = 4006.0897291425963\n",
      "Throughput@Size = 4455.080762260944\n",
      "QphH@Size = 4224.624632342421\n",
      "============================================================\n",
      "========================= Metrics ==========================\n",
      "============================================================\n",
      "power_size: 4006.0897291425963\n",
      "throughput_size: 4455.080762260944\n",
      "qphh_size: 4224.624632342421\n",
      "============================================================\n",
      "======================= End Results ========================\n",
      "============================================================\n"
     ]
    }
   ],
   "source": [
    "!python3 tpch_pgsql.py query --password 123"
   ]
  },
  {
   "cell_type": "markdown",
   "metadata": {},
   "source": [
    "### Tarefa 4 – Identificação do Sistema"
   ]
  },
  {
   "cell_type": "markdown",
   "metadata": {},
   "source": [
    "#### CPU\n",
    "\n",
    "CPU (Processador) - 12th Gen Intel(R) Core(TM) i5-1235U\n",
    "\n",
    "Quantidade de cores - 10\n",
    "\n",
    "Frequência máxima da CPU - 4400 MHz\n",
    "\n",
    "Frequência mínima da CPU - 400400 MHz\n",
    "\n",
    "Família da CPU - 6\n",
    "\n",
    "Modelo - 154"
   ]
  },
  {
   "cell_type": "markdown",
   "metadata": {},
   "source": [
    "#### Memória RAM\n",
    "\n",
    "Memória RAM- 7.4 GiB\n",
    "\n",
    "Compartilhada - 701 MiB\n",
    "\n",
    "Buff/Cache - 3 GiB\n",
    "\n",
    "Disponível para novos programas - 2.5 GiB\n",
    "\n",
    "Memória SWAP - 2 GiB\n",
    "\n",
    "L1 Data Cache (L1d) - 352 KiB\n",
    "\n",
    "L1 Instruction Cache (L1i) - 576 KiB\n",
    "\n",
    "L2 Cache - 6,5 MiB\n",
    "\n",
    "L3 Cache - 12 MiB"
   ]
  },
  {
   "cell_type": "code",
   "execution_count": 53,
   "metadata": {},
   "outputs": [
    {
     "name": "stdout",
     "output_type": "stream",
     "text": [
      "Architecture:             x86_64\n",
      "  CPU op-mode(s):         32-bit, 64-bit\n",
      "  Address sizes:          39 bits physical, 48 bits virtual\n",
      "  Byte Order:             Little Endian\n",
      "CPU(s):                   12\n",
      "  On-line CPU(s) list:    0-11\n",
      "Vendor ID:                GenuineIntel\n",
      "  Model name:             12th Gen Intel(R) Core(TM) i5-1235U\n",
      "    CPU family:           6\n",
      "    Model:                154\n",
      "    Thread(s) per core:   2\n",
      "    Core(s) per socket:   10\n",
      "    Socket(s):            1\n",
      "    Stepping:             4\n",
      "    CPU max MHz:          4400,0000\n",
      "    CPU min MHz:          400,0000\n",
      "    BogoMIPS:             4992.00\n",
      "    Flags:                fpu vme de pse tsc msr pae mce cx8 apic sep mtrr pge m\n",
      "                          ca cmov pat pse36 clflush dts acpi mmx fxsr sse sse2 s\n",
      "                          s ht tm pbe syscall nx pdpe1gb rdtscp lm constant_tsc \n",
      "                          art arch_perfmon pebs bts rep_good nopl xtopology nons\n",
      "                          top_tsc cpuid aperfmperf tsc_known_freq pni pclmulqdq \n",
      "                          dtes64 monitor ds_cpl vmx smx est tm2 ssse3 sdbg fma c\n",
      "                          x16 xtpr pdcm pcid sse4_1 sse4_2 x2apic movbe popcnt t\n",
      "                          sc_deadline_timer aes xsave avx f16c rdrand lahf_lm ab\n",
      "                          m 3dnowprefetch cpuid_fault epb invpcid_single ssbd ib\n",
      "                          rs ibpb stibp ibrs_enhanced tpr_shadow vnmi flexpriori\n",
      "                          ty ept vpid ept_ad fsgsbase tsc_adjust bmi1 avx2 smep \n",
      "                          bmi2 erms invpcid rdseed adx smap clflushopt clwb inte\n",
      "                          l_pt sha_ni xsaveopt xsavec xgetbv1 xsaves split_lock_\n",
      "                          detect avx_vnni dtherm ida arat pln pts hwp hwp_notify\n",
      "                           hwp_act_window hwp_epp hwp_pkg_req umip pku ospke wai\n",
      "                          tpkg gfni vaes vpclmulqdq rdpid movdiri movdir64b fsrm\n",
      "                           md_clear serialize arch_lbr flush_l1d arch_capabiliti\n",
      "                          es\n",
      "Virtualization features:  \n",
      "  Virtualization:         VT-x\n",
      "Caches (sum of all):      \n",
      "  L1d:                    352 KiB (10 instances)\n",
      "  L1i:                    576 KiB (10 instances)\n",
      "  L2:                     6,5 MiB (4 instances)\n",
      "  L3:                     12 MiB (1 instance)\n",
      "NUMA:                     \n",
      "  NUMA node(s):           1\n",
      "  NUMA node0 CPU(s):      0-11\n",
      "Vulnerabilities:          \n",
      "  Gather data sampling:   Not affected\n",
      "  Itlb multihit:          Not affected\n",
      "  L1tf:                   Not affected\n",
      "  Mds:                    Not affected\n",
      "  Meltdown:               Not affected\n",
      "  Mmio stale data:        Not affected\n",
      "  Reg file data sampling: Mitigation; Clear Register File\n",
      "  Retbleed:               Not affected\n",
      "  Spec rstack overflow:   Not affected\n",
      "  Spec store bypass:      Mitigation; Speculative Store Bypass disabled via prct\n",
      "                          l and seccomp\n",
      "  Spectre v1:             Mitigation; usercopy/swapgs barriers and __user pointe\n",
      "                          r sanitization\n",
      "  Spectre v2:             Mitigation; Enhanced / Automatic IBRS; IBPB conditiona\n",
      "                          l; RSB filling; PBRSB-eIBRS SW sequence; BHI BHI_DIS_S\n",
      "  Srbds:                  Not affected\n",
      "  Tsx async abort:        Not affected\n"
     ]
    }
   ],
   "source": [
    "!lscpu"
   ]
  },
  {
   "cell_type": "markdown",
   "metadata": {},
   "source": [
    "#### Disco\n",
    "\n",
    "Disco - NVMe SSD 931.5 GiB"
   ]
  },
  {
   "cell_type": "code",
   "execution_count": 54,
   "metadata": {},
   "outputs": [
    {
     "name": "stdout",
     "output_type": "stream",
     "text": [
      "NAME        MAJ:MIN RM   SIZE RO TYPE MOUNTPOINTS\n",
      "loop0         7:0    0     4K  1 loop /snap/bare/5\n",
      "loop1         7:1    0 104,2M  1 loop /snap/core/17200\n",
      "loop2         7:2    0 195,6M  1 loop /snap/arduino/85\n",
      "loop3         7:3    0  55,7M  1 loop /snap/core18/2829\n",
      "loop4         7:4    0  55,4M  1 loop /snap/core18/2846\n",
      "loop5         7:5    0  74,2M  1 loop /snap/core22/1621\n",
      "loop6         7:6    0  73,9M  1 loop /snap/core22/1663\n",
      "loop8         7:8    0 273,6M  1 loop /snap/firefox/5187\n",
      "loop9         7:9    0 164,8M  1 loop /snap/gnome-3-28-1804/198\n",
      "loop10        7:10   0 505,1M  1 loop /snap/gnome-42-2204/176\n",
      "loop11        7:11   0  91,7M  1 loop /snap/gtk-common-themes/1535\n",
      "loop12        7:12   0    20K  1 loop /snap/hello-world/29\n",
      "loop13        7:13   0 256,5M  1 loop /snap/openjdk/1994\n",
      "loop14        7:14   0 256,5M  1 loop /snap/openjdk/2020\n",
      "loop15        7:15   0   273M  1 loop /snap/firefox/5273\n",
      "nvme0n1     259:0    0 931,5G  0 disk \n",
      "├─nvme0n1p1 259:1    0   512M  0 part /boot/efi\n",
      "└─nvme0n1p2 259:2    0   931G  0 part /\n"
     ]
    }
   ],
   "source": [
    "!lsblk"
   ]
  },
  {
   "cell_type": "markdown",
   "metadata": {},
   "source": [
    "#### Sistema Operacional\n",
    "\n",
    "Linux Mint Ubuntu\n",
    "\n",
    "Kernel - 5.15.0-122-generic\n",
    "\n",
    "Arquitetura - x86_64 (64 bits)\n",
    "\n",
    "Tipo de kernel - SMP (Symmetric Multi-Processing)"
   ]
  },
  {
   "cell_type": "code",
   "execution_count": 55,
   "metadata": {},
   "outputs": [
    {
     "name": "stdout",
     "output_type": "stream",
     "text": [
      "Linux andre-Inspiron-15-3520 5.15.0-122-generic #132-Ubuntu SMP Thu Aug 29 13:45:52 UTC 2024 x86_64 x86_64 x86_64 GNU/Linux\n"
     ]
    }
   ],
   "source": [
    "!uname -a"
   ]
  },
  {
   "cell_type": "markdown",
   "metadata": {},
   "source": [
    "### Tarefa 5 - Verificação de parâmetros de armazenamento (Adaptada para SSD)"
   ]
  },
  {
   "cell_type": "markdown",
   "metadata": {},
   "source": [
    "#### a)\n",
    "\n",
    "Capacidade total do SSD - 931.5 GiB\n",
    "\n",
    "Tempo médio de leitura (latência) - 81.8 µs\n",
    "\n",
    "Tempo médio de escrita (latência) - 5.07 ms\n",
    "\n",
    "Taxa de transferência de dados:\n",
    "\n",
    "- Leitura: 2223 MB/s\n",
    "- Escrita: 2366 MB/s\n",
    "\n",
    "Endurance (vida útil) - 100 TBW\n",
    "\n",
    "Tipo de memória utilizada - QLC\n",
    "\n",
    "Velocidade de interface - PCIe NVMe"
   ]
  },
  {
   "cell_type": "markdown",
   "metadata": {},
   "source": [
    "#### b)\n",
    "\n",
    "Modo de leitura - 1997.18 MB/s\n",
    "\n",
    "Modo de gravação - 996 MB/s\n",
    "\n",
    "Ativação do TRIM - 774 GiB\n",
    "\n",
    "Configurações de cache:\n",
    "- L1 Data Cache (L1d) - 352 KiB\n",
    "- L1 Instruction Cache (L1i) - 576 KiB\n",
    "- L2 Cache - 6,5 MiB\n",
    "- L3 Cache - 12 MiB"
   ]
  },
  {
   "cell_type": "markdown",
   "metadata": {},
   "source": [
    "#### c)\n",
    "\n",
    "Tamanho de bloco utilizado - 4096 bytes\n",
    "\n",
    "Para formatar o dispositivo com um tamanho de bloco específico, o comando mkfs pode ser usado. Dependendo do tipo de sistema de arquivos (ext4, xfs, etc.), pode-se especificar o tamanho do bloco desejado.\n",
    "\n",
    "Por exemplo, deseja-se formatar um dispositivo com um tamanho de bloco diferente, basta usar o comando mkfs.ext4 com a opção -b para definir o tamanho do bloco. O valor de -b é dado em bytes e os tamanhos comuns para SSDs variam entre 1024, 2048 ou 4096 bytes."
   ]
  },
  {
   "cell_type": "code",
   "execution_count": 56,
   "metadata": {},
   "outputs": [
    {
     "name": "stdout",
     "output_type": "stream",
     "text": [
      "NAME        MAJ:MIN RM   SIZE RO TYPE MOUNTPOINTS\n",
      "loop0         7:0    0     4K  1 loop /snap/bare/5\n",
      "loop1         7:1    0 104,2M  1 loop /snap/core/17200\n",
      "loop2         7:2    0 195,6M  1 loop /snap/arduino/85\n",
      "loop3         7:3    0  55,7M  1 loop /snap/core18/2829\n",
      "loop4         7:4    0  55,4M  1 loop /snap/core18/2846\n",
      "loop5         7:5    0  74,2M  1 loop /snap/core22/1621\n",
      "loop6         7:6    0  73,9M  1 loop /snap/core22/1663\n",
      "loop8         7:8    0 273,6M  1 loop /snap/firefox/5187\n",
      "loop9         7:9    0 164,8M  1 loop /snap/gnome-3-28-1804/198\n",
      "loop10        7:10   0 505,1M  1 loop /snap/gnome-42-2204/176\n",
      "loop11        7:11   0  91,7M  1 loop /snap/gtk-common-themes/1535\n",
      "loop12        7:12   0    20K  1 loop /snap/hello-world/29\n",
      "loop13        7:13   0 256,5M  1 loop /snap/openjdk/1994\n",
      "loop14        7:14   0 256,5M  1 loop /snap/openjdk/2020\n",
      "loop15        7:15   0   273M  1 loop /snap/firefox/5273\n",
      "nvme0n1     259:0    0 931,5G  0 disk \n",
      "├─nvme0n1p1 259:1    0   512M  0 part /boot/efi\n",
      "└─nvme0n1p2 259:2    0   931G  0 part /\n"
     ]
    }
   ],
   "source": [
    "!lsblk"
   ]
  },
  {
   "cell_type": "code",
   "execution_count": 57,
   "metadata": {},
   "outputs": [
    {
     "name": "stdout",
     "output_type": "stream",
     "text": [
      "Reading package lists... Done\n",
      "Building dependency tree... Done\n",
      "Reading state information... Done\n",
      "fio is already the newest version (3.28-1).\n",
      "ioping is already the newest version (1.2-1).\n",
      "The following packages were automatically installed and are no longer required:\n",
      "  arduino-builder arduino-core-avr arduino-ctags avr-libc avrdude binutils-avr\n",
      "  extra-xdg-menus gcc-avr java-wrappers libapache-pom-java libastylej-jni\n",
      "  libbatik-java libbcpg-java libbcprov-java libcommons-codec-java\n",
      "  libcommons-compress-java libcommons-exec-java libcommons-io-java\n",
      "  libcommons-lang3-java libcommons-logging-java libcommons-net-java\n",
      "  libcommons-parent-java libftdi1 libgoogle-gson-java libhidapi-libusb0\n",
      "  libhttpclient-java libhttpcore-java libjackson2-annotations-java\n",
      "  libjackson2-core-java libjackson2-databind-java libjaxp1.3-java\n",
      "  libjmdns-java libjna-java libjna-jni libjna-platform-java libjsch-java\n",
      "  libjssc-java libjzlib-java liblightcouch-java liblistserialsj-dev\n",
      "  liblistserialsj1 liblog4j2-java libmongodb-java librsyntaxtextarea-java\n",
      "  librxtx-java libsemver-java libserialport0 libslf4j-java libusb-0.1-4\n",
      "  libxalan2-java libxerces2-java libxml-commons-external-java\n",
      "  libxml-commons-resolver1.1-java libxmlgraphics-commons-java\n",
      "Use 'sudo apt autoremove' to remove them.\n",
      "0 upgraded, 0 newly installed, 0 to remove and 154 not upgraded.\n",
      "[sudo] password for andre: 4 KiB <<< /dev/nvme0n1 (block device 931.5 GiB): request=1 time=91.2 us (warmup)\n",
      "4 KiB <<< /dev/nvme0n1 (block device 931.5 GiB): request=2 time=2.97 ms\n",
      "4 KiB <<< /dev/nvme0n1 (block device 931.5 GiB): request=3 time=3.07 ms\n",
      "4 KiB <<< /dev/nvme0n1 (block device 931.5 GiB): request=4 time=3.15 ms\n",
      "4 KiB <<< /dev/nvme0n1 (block device 931.5 GiB): request=5 time=2.99 ms\n",
      "4 KiB <<< /dev/nvme0n1 (block device 931.5 GiB): request=6 time=3.18 ms\n",
      "4 KiB <<< /dev/nvme0n1 (block device 931.5 GiB): request=7 time=3.10 ms\n",
      "4 KiB <<< /dev/nvme0n1 (block device 931.5 GiB): request=8 time=3.23 ms (slow)\n",
      "4 KiB <<< /dev/nvme0n1 (block device 931.5 GiB): request=9 time=615.7 us (fast)\n",
      "4 KiB <<< /dev/nvme0n1 (block device 931.5 GiB): request=10 time=3.00 ms\n",
      "\n",
      "--- /dev/nvme0n1 (block device 931.5 GiB) ioping statistics ---\n",
      "9 requests completed in 25.3 ms, 36 KiB read, 355 iops, 1.39 MiB/s\n",
      "generated 10 requests in 9.00 s, 40 KiB, 1 iops, 4.44 KiB/s\n",
      "min/avg/max/mdev = 615.7 us / 2.81 ms / 3.23 ms / 781.0 us\n"
     ]
    }
   ],
   "source": [
    "!echo \"andre1234\" | sudo -S apt-get install fio ioping\n",
    "!echo \"andre1234\" | sudo -S ioping -c 10 /dev/nvme0n1"
   ]
  },
  {
   "cell_type": "code",
   "execution_count": 58,
   "metadata": {},
   "outputs": [
    {
     "name": "stdout",
     "output_type": "stream",
     "text": [
      "[sudo] password for andre: \n",
      "--- /dev/nvme0n1 (block device 931.5 GiB) ioping statistics ---\n",
      "39.2 k requests completed in 2.94 s, 153.1 MiB read, 13.3 k iops, 52.0 MiB/s\n",
      "generated 39.2 k requests in 3.00 s, 153.1 MiB, 13.1 k iops, 51.0 MiB/s\n",
      "min/avg/max/mdev = 13.6 us / 75.1 us / 1.12 ms / 26.5 us\n"
     ]
    }
   ],
   "source": [
    "!echo \"andre1234\" | sudo -S ioping -RD /dev/nvme0n1"
   ]
  },
  {
   "cell_type": "code",
   "execution_count": 59,
   "metadata": {},
   "outputs": [
    {
     "name": "stdout",
     "output_type": "stream",
     "text": [
      "[sudo] password for andre: \n",
      "/dev/nvme0n1:\n",
      " Timing cached reads:   11572 MB in  2.00 seconds = 5789.05 MB/sec\n",
      " Timing buffered disk reads: 3040 MB in  3.00 seconds = 1012.45 MB/sec\n"
     ]
    }
   ],
   "source": [
    "!echo \"andre1234\" | sudo -S hdparm -tT /dev/nvme0n1"
   ]
  },
  {
   "cell_type": "code",
   "execution_count": 60,
   "metadata": {},
   "outputs": [
    {
     "name": "stdout",
     "output_type": "stream",
     "text": [
      "[sudo] password for andre: 1+0 records in\n",
      "1+0 records out\n",
      "1073741824 bytes (1,1 GB, 1,0 GiB) copied, 1,41997 s, 756 MB/s\n"
     ]
    }
   ],
   "source": [
    "!echo \"andre1234\" | sudo -S dd if=/dev/zero of=/tmp/teste.bin bs=1G count=1 oflag=direct"
   ]
  },
  {
   "cell_type": "code",
   "execution_count": 61,
   "metadata": {},
   "outputs": [
    {
     "name": "stdout",
     "output_type": "stream",
     "text": [
      "[sudo] password for andre: smartctl 7.2 2020-12-30 r5155 [x86_64-linux-5.15.0-122-generic] (local build)\n",
      "Copyright (C) 2002-20, Bruce Allen, Christian Franke, www.smartmontools.org\n",
      "\n",
      "=== START OF SMART DATA SECTION ===\n",
      "SMART/Health Information (NVMe Log 0x02)\n",
      "Critical Warning:                   0x00\n",
      "Temperature:                        37 Celsius\n",
      "Available Spare:                    100%\n",
      "Available Spare Threshold:          10%\n",
      "Percentage Used:                    0%\n",
      "Data Units Read:                    817.600 [418 GB]\n",
      "Data Units Written:                 1.267.074 [648 GB]\n",
      "Host Read Commands:                 10.960.587\n",
      "Host Write Commands:                13.110.573\n",
      "Controller Busy Time:               816\n",
      "Power Cycles:                       108\n",
      "Power On Hours:                     2\n",
      "Unsafe Shutdowns:                   1\n",
      "Media and Data Integrity Errors:    0\n",
      "Error Information Log Entries:      0\n",
      "Warning  Comp. Temperature Time:    0\n",
      "Critical Comp. Temperature Time:    0\n",
      "\n"
     ]
    }
   ],
   "source": [
    "!echo \"andre1234\" | sudo -S smartctl -A /dev/nvme0n1"
   ]
  },
  {
   "cell_type": "code",
   "execution_count": 62,
   "metadata": {},
   "outputs": [
    {
     "name": "stdout",
     "output_type": "stream",
     "text": [
      "[sudo] password for andre: smartctl 7.2 2020-12-30 r5155 [x86_64-linux-5.15.0-122-generic] (local build)\n",
      "Copyright (C) 2002-20, Bruce Allen, Christian Franke, www.smartmontools.org\n",
      "\n",
      "=== START OF INFORMATION SECTION ===\n",
      "Model Number:                       WDS100T2G0C-00CDH0\n",
      "Serial Number:                      AA000000000000000541\n",
      "Firmware Version:                   T1103F0L\n",
      "PCI Vendor/Subsystem ID:            0x126f\n",
      "IEEE OUI Identifier:                0x000001\n",
      "Total NVM Capacity:                 1.000.204.886.016 [1,00 TB]\n",
      "Unallocated NVM Capacity:           0\n",
      "Controller ID:                      1\n",
      "NVMe Version:                       1.3\n",
      "Number of Namespaces:               1\n",
      "Namespace 1 Size/Capacity:          1.000.204.886.016 [1,00 TB]\n",
      "Namespace 1 Formatted LBA Size:     512\n",
      "Namespace 1 IEEE EUI-64:            000001 0000000000\n",
      "Local Time is:                      Tue Nov 19 12:31:36 2024 -04\n",
      "\n"
     ]
    }
   ],
   "source": [
    "!echo \"andre1234\" | sudo -S smartctl -i /dev/nvme0n1"
   ]
  },
  {
   "cell_type": "code",
   "execution_count": 64,
   "metadata": {},
   "outputs": [
    {
     "name": "stdout",
     "output_type": "stream",
     "text": [
      "\u001b[1;34mDrives:\u001b[0m\n",
      "  \u001b[1;34mLocal Storage:\u001b[0m \u001b[1;34mtotal:\u001b[0m 931.51 GiB \u001b[1;34mused:\u001b[0m 46.57 GiB (5.0%)\u001b[0m\n",
      "  \u001b[1;34mID-1:\u001b[0m /dev/nvme0n1 \u001b[1;34mvendor:\u001b[0m Western Digital \u001b[1;34mmodel:\u001b[0m WDS100T2G0C-00CDH0\u001b[0m\n",
      "    \u001b[1;34msize:\u001b[0m 931.51 GiB \u001b[1;34mspeed:\u001b[0m 31.6 Gb/s \u001b[1;34mlanes:\u001b[0m 4 \u001b[1;34mserial:\u001b[0m AA000000000000000541\u001b[0m\n",
      "    \u001b[1;34mtemp:\u001b[0m 30.9 C\u001b[0m\n"
     ]
    }
   ],
   "source": [
    "!inxi -Dxx"
   ]
  },
  {
   "cell_type": "code",
   "execution_count": 67,
   "metadata": {},
   "outputs": [
    {
     "name": "stdout",
     "output_type": "stream",
     "text": [
      "[sudo] password for andre: \n",
      "/dev/nvme0n1:\n",
      " readonly      =  0 (off)\n",
      " readahead     = 256 (on)\n",
      " geometry      = 953869/64/32, sectors = 1953525168, start = 0\n"
     ]
    }
   ],
   "source": [
    "!echo \"andre1234\" | sudo -S hdparm /dev/nvme0n1"
   ]
  },
  {
   "cell_type": "code",
   "execution_count": 68,
   "metadata": {},
   "outputs": [
    {
     "name": "stdout",
     "output_type": "stream",
     "text": [
      "  File: \".\"\n",
      "    ID: aa6b85b362a0a708 Namelen: 255     Type: ext2/ext3\n",
      "Block size: 4096       Fundamental block size: 4096\n",
      "Blocks: Total: 239946508  Free: 227739042  Available: 215531990\n",
      "Inodes: Total: 61022208   Free: 60183588\n"
     ]
    }
   ],
   "source": [
    "!stat -f ."
   ]
  },
  {
   "cell_type": "markdown",
   "metadata": {},
   "source": [
    "## PARTE II"
   ]
  },
  {
   "cell_type": "markdown",
   "metadata": {},
   "source": [
    "### Tarefa 6"
   ]
  },
  {
   "cell_type": "markdown",
   "metadata": {},
   "source": [
    "### Tarefa 7"
   ]
  },
  {
   "cell_type": "markdown",
   "metadata": {},
   "source": [
    "| Característica                      | Ext2           | Ext3                        | ReiserFS               | XFS                 |\n",
    "|-------------------------------------|----------------|-----------------------------|------------------------|---------------------|\n",
    "| Journaling                          | Não            | Sim                         | Sim                    | Sim                 |\n",
    "| Modos de Journaling                 | N/A            | Writeback, Ordered, Journal | Metadados              | Metadados           |\n",
    "| Estrutura de Dados                  | Inodes, blocos | Inodes, blocos, journal     | Árvores B+ balanceadas | Extents, árvores B+ |\n",
    "| Desempenho (arquivos pequenos)      | Bom            | Bom                         | Excelente              | Bom                 |\n",
    "| Desempenho (arquivos grandes)       | Bom            | Bom                         | Razoável               | Excelente           |\n",
    "| Tamanho máx. de arquivo             | Até 2 TiB      | Até 2 TiB                   | Até 8 TiB              | Até 8 EiB           |\n",
    "| Tamanho máx. do sistema de arquivos | Até 32 TiB     | Até 32 TiB                  | Até 16 TiB             | Até 8 EiB           |\n",
    "| Desfragmentação online              | Não            | Não                         | Não                    | Sim                 |\n",
    "| Alocação dinâmica de inodes         | Não            | Não                         | Sim                    | Sim                 |\n",
    "| Suporte a cotas                     | Sim            | Sim                         | Sim                    | Sim                 |\n",
    "| Redimensionamento online            | Sim (aumentar) | Sim (aumentar)              | Não                    | Sim (aumentar)      |\n",
    "| Recuperação após falhas             | Lenta          | Rápida                      | Rápida                 | Rápida              |\n",
    "| Compatibilidade                     | Alta           | Alta                        | Média                  | Alta                |\n",
    "| Desenvolvimento ativo               | Não            | Não (substituído pelo Ext4) | Não                    | Sim                 |\n"
   ]
  },
  {
   "cell_type": "markdown",
   "metadata": {},
   "source": [
    "## PARTE III"
   ]
  },
  {
   "cell_type": "markdown",
   "metadata": {},
   "source": [
    "### Tarefa 9 – Preparação de Tabela Exemplo"
   ]
  },
  {
   "cell_type": "code",
   "execution_count": 2,
   "metadata": {},
   "outputs": [
    {
     "name": "stdout",
     "output_type": "stream",
     "text": [
      "As 10 primeiras tuplas da tabela t ordenadas por k:\n",
      "k: 1, v: 0\n",
      "k: 2, v: 9\n",
      "k: 3, v: 4\n",
      "k: 4, v: 9\n",
      "k: 5, v: 5\n",
      "k: 6, v: 5\n",
      "k: 7, v: 6\n",
      "k: 8, v: 8\n",
      "k: 9, v: 5\n",
      "k: 10, v: 4\n"
     ]
    }
   ],
   "source": [
    "import psycopg2\n",
    "\n",
    "conn = psycopg2.connect(\n",
    "    host=\"localhost\",\n",
    "    database=\"parte3\",\n",
    "    user=\"postgres\",\n",
    "    password=\"123\"\n",
    ")\n",
    "\n",
    "cur = conn.cursor()\n",
    "\n",
    "sql_commands = [\n",
    "    \"DROP TABLE IF EXISTS t;\",\n",
    "    \"CREATE TABLE t (k serial PRIMARY KEY, v integer);\",\n",
    "    \"INSERT INTO t(v) SELECT trunc(random() * 10) FROM generate_series(1,100000);\"\n",
    "]\n",
    "\n",
    "try:\n",
    "\n",
    "    for command in sql_commands:\n",
    "        cur.execute(command)\n",
    "\n",
    "    conn.commit()\n",
    "\n",
    "    cur.execute(\"SELECT k, v FROM t ORDER BY k LIMIT 10;\")\n",
    "    rows = cur.fetchall()\n",
    "\n",
    "    print(\"As 10 primeiras tuplas da tabela t ordenadas por k:\")\n",
    "    for row in rows:\n",
    "        print(f\"k: {row[0]}, v: {row[1]}\")\n",
    "\n",
    "except Exception as e:\n",
    "    print(f\"Ocorreu um erro: {e}\")\n",
    "    conn.rollback()\n",
    "\n",
    "finally:\n",
    "    cur.close()\n",
    "    conn.close()"
   ]
  },
  {
   "cell_type": "markdown",
   "metadata": {},
   "source": [
    "### Tarefa 10 – Páginas criadas"
   ]
  },
  {
   "cell_type": "markdown",
   "metadata": {},
   "source": [
    "443 páginas"
   ]
  },
  {
   "cell_type": "code",
   "execution_count": 5,
   "metadata": {},
   "outputs": [
    {
     "name": "stdout",
     "output_type": "stream",
     "text": [
      "Nome da Tabela: t, Páginas: 443, Tuple: 100000.0\n"
     ]
    }
   ],
   "source": [
    "import psycopg2\n",
    "\n",
    "conn = psycopg2.connect(\n",
    "    host=\"localhost\",\n",
    "    database=\"parte3\",\n",
    "    user=\"postgres\",\n",
    "    password=\"123\"\n",
    ")\n",
    "\n",
    "cur = conn.cursor()\n",
    "\n",
    "try:\n",
    "\n",
    "    cur.execute(\"SELECT relname, relpages, reltuples FROM pg_class WHERE relname='t';\")\n",
    "    rows = cur.fetchall()\n",
    "\n",
    "    for row in rows:\n",
    "        print(f\"Nome da Tabela: {row[0]}, Páginas: {row[1]}, Tuple: {row[2]}\")\n",
    "\n",
    "except Exception as e:\n",
    "    print(f\"Ocorreu um erro: {e}\")\n",
    "\n",
    "finally:\n",
    "    cur.close()\n",
    "    conn.close()"
   ]
  },
  {
   "cell_type": "markdown",
   "metadata": {},
   "source": [
    "### Tarefa 11 – Blocos"
   ]
  },
  {
   "cell_type": "code",
   "execution_count": 7,
   "metadata": {},
   "outputs": [
    {
     "name": "stdout",
     "output_type": "stream",
     "text": [
      "relid: 18958\n",
      "schemaname: public\n",
      "relname: t\n",
      "heap_blks_read: 447\n",
      "heap_blks_hit: 102215\n",
      "idx_blks_read: 276\n",
      "idx_blks_hit: 199872\n",
      "toast_blks_read: None\n",
      "toast_blks_hit: None\n",
      "tidx_blks_read: None\n",
      "tidx_blks_hit: None\n",
      "\n"
     ]
    }
   ],
   "source": [
    "import psycopg2\n",
    "\n",
    "try:\n",
    "    conn = psycopg2.connect(\n",
    "        host=\"localhost\",\n",
    "        database=\"parte3\",\n",
    "        user=\"postgres\",\n",
    "        password=\"123\"\n",
    "    )\n",
    "\n",
    "    conn.autocommit = True\n",
    "    cur = conn.cursor()\n",
    "\n",
    "    cur.execute(\"SELECT pg_sleep(1);\")\n",
    "\n",
    "    try:\n",
    "\n",
    "        cur.execute(\"SELECT * FROM pg_statio_user_tables WHERE relname='t';\")\n",
    "        result = cur.fetchall()\n",
    "        columns = [desc[0] for desc in cur.description]\n",
    "\n",
    "    except psycopg2.ProgrammingError as e:\n",
    "        conn.rollback()\n",
    "        cur.execute(\"SELECT * FROM pg_statio_user_tables WHERE tablename='t';\")\n",
    "        result = cur.fetchall()\n",
    "        columns = [desc[0] for desc in cur.description]\n",
    "\n",
    "    for row in result:\n",
    "        for col, val in zip(columns, row):\n",
    "            print(f\"{col}: {val}\")\n",
    "        print(\"\")\n",
    "\n",
    "    cur.execute(\"SELECT pg_stat_reset();\")\n",
    "\n",
    "except Exception as e:\n",
    "    print(\"An error occurred:\", e)\n",
    "\n",
    "finally:\n",
    "    if conn:\n",
    "        cur.close()\n",
    "        conn.close()"
   ]
  },
  {
   "cell_type": "markdown",
   "metadata": {},
   "source": [
    "### Tarefa 12 – Índice"
   ]
  },
  {
   "cell_type": "markdown",
   "metadata": {},
   "source": [
    "Qual o tempo gasto para realizar uma consulta para um valor (tendo a tabela 100000 tuplas)? 4.501 ms\n",
    "\n",
    "Qual o tempo gasto para recriar um índice para o atributo ‘v’? 42.084 ms\n",
    "\n",
    "Qual o tempo gasto para realizar uma consulta para um valor específico (10000000 de tuplas)? 534.832 ms\n",
    "\n",
    "Qual o tempo gasto para recriar um índice para o atributo ‘v’? 2854.771 ms"
   ]
  },
  {
   "cell_type": "code",
   "execution_count": 43,
   "metadata": {},
   "outputs": [
    {
     "data": {
      "image/png": "[encoded data removed]",
      "text/plain": [
       "<IPython.core.display.Image object>"
      ]
     },
     "execution_count": 43,
     "metadata": {},
     "output_type": "execute_result"
    }
   ],
   "source": [
    "Image(filename='imagens/indice.png')"
   ]
  },
  {
   "cell_type": "code",
   "execution_count": 44,
   "metadata": {},
   "outputs": [
    {
     "data": {
      "image/png": "[encoded data removed]",
      "text/plain": [
       "<IPython.core.display.Image object>"
      ]
     },
     "execution_count": 44,
     "metadata": {},
     "output_type": "execute_result"
    }
   ],
   "source": [
    "Image(filename='imagens/tempo criar novo indice.png')"
   ]
  },
  {
   "cell_type": "code",
   "execution_count": 45,
   "metadata": {},
   "outputs": [
    {
     "data": {
      "image/png": "[encoded data removed]",
      "text/plain": [
       "<IPython.core.display.Image object>"
      ]
     },
     "execution_count": 45,
     "metadata": {},
     "output_type": "execute_result"
    }
   ],
   "source": [
    "Image(filename='imagens/consulta dez milhoes.png')"
   ]
  },
  {
   "cell_type": "code",
   "execution_count": 46,
   "metadata": {},
   "outputs": [
    {
     "data": {
      "image/png": "[encoded data removed]",
      "text/plain": [
       "<IPython.core.display.Image object>"
      ]
     },
     "execution_count": 46,
     "metadata": {},
     "output_type": "execute_result"
    }
   ],
   "source": [
    "Image(filename='imagens/indice dez milhoes.png')"
   ]
  },
  {
   "cell_type": "markdown",
   "metadata": {},
   "source": [
    "### Tarefa 13 - Fill factor"
   ]
  },
  {
   "cell_type": "markdown",
   "metadata": {},
   "source": [
    "fillfactor = 60\n",
    "\n",
    "Qual o tempo gasto para realizar uma consulta para um valor (tendo a tabela 100000 tuplas)? 4.871 ms\n",
    "\n",
    "Qual o tempo gasto para recriar um índice para o atributo ‘v’? 64.324 ms\n",
    "\n",
    "Qual o tempo gasto para realizar uma consulta para um valor específico (10000000 de tuplas)? 965.508 ms\n",
    "\n",
    "Qual o tempo gasto para recriar um índice para o atributo ‘v’? 3118.947 ms"
   ]
  },
  {
   "cell_type": "markdown",
   "metadata": {},
   "source": [
    "fillfactor = 80\n",
    "\n",
    "Qual o tempo gasto para realizar uma consulta para um valor (tendo a tabela 100000 tuplas)? 4.802 ms\n",
    "\n",
    "Qual o tempo gasto para recriar um índice para o atributo ‘v’? 43.186 ms\n",
    "\n",
    "Qual o tempo gasto para realizar uma consulta para um valor específico (10000000 de tuplas)? 235.155 ms\n",
    "\n",
    "Qual o tempo gasto para recriar um índice para o atributo ‘v’? 2825,593 ms"
   ]
  },
  {
   "cell_type": "markdown",
   "metadata": {},
   "source": [
    "fillfactor = 90\n",
    "\n",
    "Qual o tempo gasto para realizar uma consulta para um valor (tendo a tabela 100000 tuplas)? 6.114 ms\n",
    "\n",
    "Qual o tempo gasto para recriar um índice para o atributo ‘v’? 36.145 ms\n",
    "\n",
    "Qual o tempo gasto para realizar uma consulta para um valor específico (10000000 de tuplas)? 218.578 ms\n",
    "\n",
    "Qual o tempo gasto para recriar um índice para o atributo ‘v’? 2940.632 ms"
   ]
  },
  {
   "cell_type": "markdown",
   "metadata": {},
   "source": [
    "fillfactor = 100\n",
    "\n",
    "Qual o tempo gasto para realizar uma consulta para um valor (tendo a tabela 100000 tuplas)? 4.654 ms\n",
    "\n",
    "Qual o tempo gasto para recriar um índice para o atributo ‘v’? 37.619 ms\n",
    "\n",
    "Qual o tempo gasto para realizar uma consulta para um valor específico (10000000 de tuplas)? 207.591 ms\n",
    "\n",
    "Qual o tempo gasto para recriar um índice para o atributo ‘v’? 2905.986 ms"
   ]
  },
  {
   "cell_type": "markdown",
   "metadata": {},
   "source": [
    "Análise:\n",
    "\n",
    "(100000 tuplas)\n",
    "\n",
    "Fillfactor = 100 teve o melhor desempenho, com o menor tempo de execução (4.654 ms), o que mostra que quando o índice está completamente cheio, ele pode ser mais eficiente em termos de leitura.\n",
    "\n",
    "O fillfactor = 90 teve o pior desempenho (6.114 ms), o que pode ser resultado do maior espaço livre deixado nos blocos, aumentando a necessidade de mais leituras para localizar o valor.\n",
    "\n",
    "O fillfactor = 90 apresentou o menor tempo para recriação do índice (36.145 ms), sugerindo que deixar mais espaço livre nos blocos pode agilizar o processo de construção do índice, já que há mais \"espaço disponível\" para armazenar os dados.\n",
    "\n",
    "Fillfactor = 60 teve o maior tempo para recriar o índice (64.324 ms), indicando que a estratégia de deixar mais espaço livre no bloco pode exigir mais tempo para o PostgreSQL reorganizar e otimizar os dados.\n",
    "\n",
    "(10000000 tuplas)\n",
    "\n",
    "O fillfactor = 100 tem o melhor desempenho (207.591 ms), seguido de fillfactor = 90 (218.578 ms). Isso sugere que um índice mais cheio (com menos espaço livre) ajuda a reduzir o tempo de consulta quando a tabela é muito maior, pois há menos necessidade de buscar em múltiplos blocos.\n",
    "\n",
    "Fillfactor = 60 teve o pior desempenho (965.508 ms), o que pode ser atribuído ao maior espaço livre nos blocos, que provavelmente aumenta a quantidade de blocos lidos durante a consulta.\n",
    "\n",
    "Fillfactor = 60 levou mais tempo (3118.947 ms), enquanto fillfactor = 80, 90 e 100 mostraram tempos mais próximos, com o fillfactor = 100 (2905.986 ms) sendo ligeiramente mais rápido que o 90 (2940.632 ms)."
   ]
  },
  {
   "cell_type": "markdown",
   "metadata": {},
   "source": [
    "### Tarefa 15 - Utilize índices com ordem DESC"
   ]
  },
  {
   "cell_type": "markdown",
   "metadata": {},
   "source": [
    "fillfactor = 60\n",
    "\n",
    "Qual o tempo gasto para realizar uma consulta para um valor (tendo a tabela 100000 tuplas)? 5.084 ms\n",
    "\n",
    "Qual o tempo gasto para recriar um índice para o atributo ‘v’? 42.943 ms\n",
    "\n",
    "Qual o tempo gasto para realizar uma consulta para um valor específico (10000000 de tuplas)? 398.130 ms\n",
    "\n",
    "Qual o tempo gasto para recriar um índice para o atributo ‘v’? 2925.341 ms"
   ]
  },
  {
   "cell_type": "markdown",
   "metadata": {},
   "source": [
    "fillfactor = 80\n",
    "\n",
    "Qual o tempo gasto para realizar uma consulta para um valor (tendo a tabela 100000 tuplas)? 3.904 ms\n",
    "\n",
    "Qual o tempo gasto para recriar um índice para o atributo ‘v’? 61.943 ms\n",
    "\n",
    "Qual o tempo gasto para realizar uma consulta para um valor específico (10000000 de tuplas)? 243.156 ms\n",
    "\n",
    "Qual o tempo gasto para recriar um índice para o atributo ‘v’? 2925.758  ms"
   ]
  },
  {
   "cell_type": "markdown",
   "metadata": {},
   "source": [
    "fillfactor = 90\n",
    "\n",
    "Qual o tempo gasto para realizar uma consulta para um valor (tendo a tabela 100000 tuplas)? 4.611 ms\n",
    "\n",
    "Qual o tempo gasto para recriar um índice para o atributo ‘v’? 36.543 ms\n",
    "\n",
    "Qual o tempo gasto para realizar uma consulta para um valor específico (10000000 de tuplas)? 219.052 ms\n",
    "\n",
    "Qual o tempo gasto para recriar um índice para o atributo ‘v’? 2931.532 ms"
   ]
  },
  {
   "cell_type": "markdown",
   "metadata": {},
   "source": [
    "fillfactor = 100\n",
    "\n",
    "Qual o tempo gasto para realizar uma consulta para um valor (tendo a tabela 100000 tuplas)? 3.618 ms\n",
    "\n",
    "Qual o tempo gasto para recriar um índice para o atributo ‘v’? 41.48 ms\n",
    "\n",
    "Qual o tempo gasto para realizar uma consulta para um valor específico (10000000 de tuplas)? 216.981 ms\n",
    "\n",
    "Qual o tempo gasto para recriar um índice para o atributo ‘v’? 2972.292 ms"
   ]
  },
  {
   "cell_type": "markdown",
   "metadata": {},
   "source": [
    "Análise:\n",
    "\n",
    "(100000 tuplas)\n",
    "\n",
    "Fillfactor = 100 teve o melhor desempenho (3.618 ms), indicando que um índice mais cheio, com menos espaço livre, pode ser mais eficiente para consultas rápidas em tabelas menores.\n",
    "\n",
    "Fillfactor = 60 (5.084 ms) teve o maior tempo de consulta, provavelmente devido ao maior espaço livre nos blocos, o que pode resultar em mais leituras durante a consulta.\n",
    "\n",
    "O fillfactor = 90 teve o menor tempo para recriar o índice (36.543 ms), o que pode indicar que um valor de fillfactor mais alto, deixando menos espaço livre, resulta em uma recriação de índice mais eficiente.\n",
    "\n",
    "Fillfactor = 80 teve o maior tempo para recriar o índice (61.943 ms), o que pode ser um reflexo do equilíbrio entre espaço livre e a necessidade de otimizar a estrutura do índice.\n",
    "\n",
    "(10000000 tuplas)\n",
    "\n",
    "Fillfactor = 100 teve o melhor desempenho (216.981 ms), seguido por fillfactor = 90 (219.052 ms). Isso sugere que um índice com menos espaço livre (preenchido até 100%) é mais eficiente para consultas em grandes tabelas, já que há menos necessidade de acessar múltiplos blocos de índice.\n",
    "\n",
    "Fillfactor = 80 teve um desempenho razoável (243.156 ms), mas o fillfactor = 60 teve o pior desempenho (398.130 ms). O maior espaço livre nos blocos de fillfactor = 60 provavelmente resultou em uma maior quantidade de blocos a serem lidos, aumentando o tempo da consulta.\n",
    "\n",
    "\n",
    "Fillfactor = 100 teve o maior tempo (2972.292 ms), mas a diferença é mínima em comparação com as outras configurações.\n",
    "\n",
    "Esses resultados sugerem que a diferença no fillfactor tem um impacto pequeno no tempo de recriação do índice para grandes volumes de dados."
   ]
  },
  {
   "cell_type": "markdown",
   "metadata": {},
   "source": []
  }
 ],
 "metadata": {
  "kernelspec": {
   "display_name": "Python 3",
   "language": "python",
   "name": "python3"
  },
  "language_info": {
   "codemirror_mode": {
    "name": "ipython",
    "version": 3
   },
   "file_extension": ".py",
   "mimetype": "text/x-python",
   "name": "python",
   "nbconvert_exporter": "python",
   "pygments_lexer": "ipython3",
   "version": "3.10.12"
  }
 },
 "nbformat": 4,
 "nbformat_minor": 2
}
